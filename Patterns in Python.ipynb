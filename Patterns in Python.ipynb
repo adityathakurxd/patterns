{
 "cells": [
  {
   "cell_type": "markdown",
   "metadata": {},
   "source": [
    "# Patterns in Python\n",
    "Printing patterns is one of the most basic yet a very confusing exercise.\n",
    "\n",
    "Let us start by first breaking down a simple 4x4 pattern:\n",
    "\n"
   ]
  },
  {
   "cell_type": "code",
   "execution_count": 1,
   "metadata": {},
   "outputs": [
    {
     "name": "stdout",
     "output_type": "stream",
     "text": [
      "* * * *\n",
      "* * * *\n",
      "* * * *\n",
      "* * * *\n"
     ]
    }
   ],
   "source": [
    "#Using multiple print statements\n",
    "\n",
    "print(\"* * * *\")\n",
    "print(\"* * * *\")\n",
    "print(\"* * * *\")\n",
    "print(\"* * * *\")"
   ]
  },
  {
   "cell_type": "code",
   "execution_count": 2,
   "metadata": {},
   "outputs": [
    {
     "name": "stdout",
     "output_type": "stream",
     "text": [
      "* * * *\n",
      "* * * *\n",
      "* * * *\n",
      "* * * *\n"
     ]
    }
   ],
   "source": [
    "#Using loops to print\n",
    "\n",
    "for i in range(4):\n",
    "    print(\"* * * *\")\n",
    "    "
   ]
  },
  {
   "cell_type": "markdown",
   "metadata": {},
   "source": [
    "You'd notice that we're using a loop to iterate through the code. <br>\n",
    "But we can further optimise the process by instead of typing out '*' 4 times, and using only once!\n",
    "\n",
    "To do this we'll need a nested loop."
   ]
  },
  {
   "cell_type": "code",
   "execution_count": null,
   "metadata": {},
   "outputs": [],
   "source": [
    "for i in range(4):\n",
    "    for j in range(4):\n",
    "        print('* ', end = \"\")\n",
    "    print()"
   ]
  },
  {
   "cell_type": "markdown",
   "metadata": {},
   "source": [
    "The i loop works with rows while the j loop manages the columns."
   ]
  },
  {
   "cell_type": "markdown",
   "metadata": {},
   "source": [
    "A little about the **end** keyword."
   ]
  },
  {
   "cell_type": "code",
   "execution_count": null,
   "metadata": {},
   "outputs": [],
   "source": [
    "print(\"Aditya\", end = \" \")\n",
    "print(\"Aditya\", end = \"\")"
   ]
  },
  {
   "cell_type": "markdown",
   "metadata": {},
   "source": [
    "### Pattern 1 : The triangle (Simple Pyramid pattern)"
   ]
  },
  {
   "cell_type": "code",
   "execution_count": null,
   "metadata": {},
   "outputs": [],
   "source": [
    "for i in range(4):\n",
    "    for j in range(i+1): #Increment is based on the row\n",
    "        print('* ', end = \"\")\n",
    "    print()"
   ]
  },
  {
   "cell_type": "markdown",
   "metadata": {},
   "source": [
    "### Pattern 2 : The Reverse triangle (Downward half - Pyramid)"
   ]
  },
  {
   "cell_type": "code",
   "execution_count": null,
   "metadata": {},
   "outputs": [],
   "source": [
    "for i in range(4):\n",
    "    for j in range(4 - i): #The * decrease therefore we subtract\n",
    "        print('* ', end = \"\")\n",
    "    print()"
   ]
  },
  {
   "cell_type": "markdown",
   "metadata": {},
   "source": [
    "**Note**: How to modify these based on user input?"
   ]
  },
  {
   "cell_type": "code",
   "execution_count": null,
   "metadata": {},
   "outputs": [],
   "source": [
    "n = int(input(\"Enter the number of rows: \"))\n",
    "for i in range(n): #Replace 4 with n\n",
    "    for j in range(n - i): \n",
    "        print('* ', end = \"\")\n",
    "    print()"
   ]
  },
  {
   "cell_type": "markdown",
   "metadata": {},
   "source": [
    "### Pattern 3 : Pyramid"
   ]
  },
  {
   "cell_type": "code",
   "execution_count": null,
   "metadata": {},
   "outputs": [],
   "source": [
    "n = int(input(\"Enter number of rows: \"))\n",
    "for i in range (0, n):\n",
    "    for j in range (0, n-i-1):\n",
    "        print (end=\" \")\n",
    "    for j in range (0, i+1):\n",
    "        print (\"*\", end =\" \")\n",
    "    print()"
   ]
  },
  {
   "cell_type": "code",
   "execution_count": null,
   "metadata": {},
   "outputs": [],
   "source": [
    "n = int(input(\"Enter number of rows: \"))\n",
    "for i in range (0, n):\n",
    "    for j in range (0, n-i-1):\n",
    "        print (end=\" \")\n",
    "    for j in range (0, 2*i+1):\n",
    "        print (\"*\", end =\"\")\n",
    "    print()"
   ]
  },
  {
   "cell_type": "markdown",
   "metadata": {},
   "source": [
    "### Pattern : Reverse Pyramid"
   ]
  },
  {
   "cell_type": "code",
   "execution_count": null,
   "metadata": {},
   "outputs": [],
   "source": [
    "n = int(input(\"Enter number of rows: \"))\n",
    "for i in range (n, 0, -1):\n",
    "    for j in range (0, n-i):\n",
    "        print (end=\" \")\n",
    "    for j in range (0, i):\n",
    "        print (\"*\", end =\" \")\n",
    "    print()"
   ]
  },
  {
   "cell_type": "markdown",
   "metadata": {},
   "source": [
    "**Note:** The range function can have 3 parameters. (Start, End and Step)"
   ]
  },
  {
   "cell_type": "code",
   "execution_count": null,
   "metadata": {},
   "outputs": [],
   "source": [
    "for i in range (0,10,2):\n",
    "    print(i)"
   ]
  },
  {
   "cell_type": "markdown",
   "metadata": {},
   "source": [
    "### Pattern : Diamond"
   ]
  },
  {
   "cell_type": "code",
   "execution_count": null,
   "metadata": {},
   "outputs": [],
   "source": [
    "def pyramid(rows):\n",
    "    for i in range(rows):\n",
    "        print(' '*(rows-i-1)+'* '*(i+1))\n",
    "    for j in range(rows-1,0,-1):\n",
    "        print(' '*(rows-j)+'* '*(j))"
   ]
  },
  {
   "cell_type": "code",
   "execution_count": null,
   "metadata": {},
   "outputs": [],
   "source": [
    "pyramid(4)"
   ]
  },
  {
   "cell_type": "markdown",
   "metadata": {},
   "source": [
    "### That's all.\n",
    "\n",
    "#### What can you try out? <br>\n",
    "- Try replacing '\\*' with numeric digits.\n",
    "- Check out other patterns like creating alphabets in Python"
   ]
  },
  {
   "cell_type": "markdown",
   "metadata": {},
   "source": [
    "## About the Instructor\n",
    "I am **Aditya Thakur**, a second year student at SRM University, Delhi NCR, Sonepat. I work with technologies like Flutter, Python, etc and make videos on them for my YouTube channel which has around 3,700 subscribers.\n",
    "\n",
    "YouTube Link: https://www.youtube.com/channel/UChCAJNpMwoEUYCsE_eSyU4w <br>\n",
    "Connect with me on LinkedIn: https://www.linkedin.com/in/adityathakurxd/"
   ]
  },
  {
   "cell_type": "markdown",
   "metadata": {},
   "source": [
    "## Thank you!"
   ]
  },
  {
   "cell_type": "code",
   "execution_count": null,
   "metadata": {},
   "outputs": [],
   "source": []
  }
 ],
 "metadata": {
  "kernelspec": {
   "display_name": "Python 3",
   "language": "python",
   "name": "python3"
  },
  "language_info": {
   "codemirror_mode": {
    "name": "ipython",
    "version": 3
   },
   "file_extension": ".py",
   "mimetype": "text/x-python",
   "name": "python",
   "nbconvert_exporter": "python",
   "pygments_lexer": "ipython3",
   "version": "3.8.5"
  }
 },
 "nbformat": 4,
 "nbformat_minor": 4
}
